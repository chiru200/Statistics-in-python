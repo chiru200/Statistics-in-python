{
 "cells": [
  {
   "cell_type": "code",
   "execution_count": 1,
   "metadata": {},
   "outputs": [
    {
     "data": {
      "text/html": [
       "<div>\n",
       "<style scoped>\n",
       "    .dataframe tbody tr th:only-of-type {\n",
       "        vertical-align: middle;\n",
       "    }\n",
       "\n",
       "    .dataframe tbody tr th {\n",
       "        vertical-align: top;\n",
       "    }\n",
       "\n",
       "    .dataframe thead th {\n",
       "        text-align: right;\n",
       "    }\n",
       "</style>\n",
       "<table border=\"1\" class=\"dataframe\">\n",
       "  <thead>\n",
       "    <tr style=\"text-align: right;\">\n",
       "      <th></th>\n",
       "      <th>thickness(mm)</th>\n",
       "      <th>x</th>\n",
       "      <th>Counting(N)</th>\n",
       "      <th>lnN</th>\n",
       "      <th>se</th>\n",
       "    </tr>\n",
       "  </thead>\n",
       "  <tbody>\n",
       "    <tr>\n",
       "      <th>0</th>\n",
       "      <td>0.05</td>\n",
       "      <td>0.135</td>\n",
       "      <td>414</td>\n",
       "      <td>6.025866</td>\n",
       "      <td>0.1</td>\n",
       "    </tr>\n",
       "    <tr>\n",
       "      <th>1</th>\n",
       "      <td>0.10</td>\n",
       "      <td>0.270</td>\n",
       "      <td>367</td>\n",
       "      <td>5.905362</td>\n",
       "      <td>0.2</td>\n",
       "    </tr>\n",
       "    <tr>\n",
       "      <th>2</th>\n",
       "      <td>0.15</td>\n",
       "      <td>0.405</td>\n",
       "      <td>274</td>\n",
       "      <td>5.613128</td>\n",
       "      <td>0.9</td>\n",
       "    </tr>\n",
       "    <tr>\n",
       "      <th>3</th>\n",
       "      <td>0.20</td>\n",
       "      <td>0.540</td>\n",
       "      <td>237</td>\n",
       "      <td>5.468060</td>\n",
       "      <td>0.4</td>\n",
       "    </tr>\n",
       "    <tr>\n",
       "      <th>4</th>\n",
       "      <td>0.25</td>\n",
       "      <td>0.675</td>\n",
       "      <td>189</td>\n",
       "      <td>5.241747</td>\n",
       "      <td>0.4</td>\n",
       "    </tr>\n",
       "    <tr>\n",
       "      <th>5</th>\n",
       "      <td>0.30</td>\n",
       "      <td>0.810</td>\n",
       "      <td>155</td>\n",
       "      <td>5.043425</td>\n",
       "      <td>0.3</td>\n",
       "    </tr>\n",
       "    <tr>\n",
       "      <th>6</th>\n",
       "      <td>0.35</td>\n",
       "      <td>0.945</td>\n",
       "      <td>175</td>\n",
       "      <td>5.164786</td>\n",
       "      <td>0.2</td>\n",
       "    </tr>\n",
       "    <tr>\n",
       "      <th>7</th>\n",
       "      <td>0.40</td>\n",
       "      <td>1.080</td>\n",
       "      <td>141</td>\n",
       "      <td>4.948760</td>\n",
       "      <td>0.1</td>\n",
       "    </tr>\n",
       "    <tr>\n",
       "      <th>8</th>\n",
       "      <td>0.55</td>\n",
       "      <td>1.485</td>\n",
       "      <td>139</td>\n",
       "      <td>4.934474</td>\n",
       "      <td>0.3</td>\n",
       "    </tr>\n",
       "    <tr>\n",
       "      <th>9</th>\n",
       "      <td>0.95</td>\n",
       "      <td>2.565</td>\n",
       "      <td>134</td>\n",
       "      <td>4.897840</td>\n",
       "      <td>0.6</td>\n",
       "    </tr>\n",
       "  </tbody>\n",
       "</table>\n",
       "</div>"
      ],
      "text/plain": [
       "   thickness(mm)      x  Counting(N)       lnN   se\n",
       "0           0.05  0.135          414  6.025866  0.1\n",
       "1           0.10  0.270          367  5.905362  0.2\n",
       "2           0.15  0.405          274  5.613128  0.9\n",
       "3           0.20  0.540          237  5.468060  0.4\n",
       "4           0.25  0.675          189  5.241747  0.4\n",
       "5           0.30  0.810          155  5.043425  0.3\n",
       "6           0.35  0.945          175  5.164786  0.2\n",
       "7           0.40  1.080          141  4.948760  0.1\n",
       "8           0.55  1.485          139  4.934474  0.3\n",
       "9           0.95  2.565          134  4.897840  0.6"
      ]
     },
     "execution_count": 1,
     "metadata": {},
     "output_type": "execute_result"
    }
   ],
   "source": [
    "#Testing of Normality of a given data\n",
    "\n",
    "# Shapiro-Wilk Test\n",
    "import pandas as pd\n",
    "import numpy as np\n",
    "import random as random\n",
    "from scipy.stats import shapiro ,norm \n",
    "import matplotlib.pyplot as plt\n",
    "from matplotlib.pyplot import figure\n",
    "%matplotlib inline\n",
    "df2 = pd.read_csv('ac.csv', names = ['thickness(mm)' , 'x', 'Counting(N)', 'lnN', 'se']) \n",
    "df2"
   ]
  },
  {
   "cell_type": "code",
   "execution_count": 2,
   "metadata": {},
   "outputs": [
    {
     "name": "stdout",
     "output_type": "stream",
     "text": [
      "Statistics=0.892, p=0.177\n"
     ]
    }
   ],
   "source": [
    "# normality test\n",
    "stat, p = shapiro(df2.lnN)\n",
    "print('Statistics=%.3f, p=%.3f' % (stat, p))\n"
   ]
  },
  {
   "cell_type": "markdown",
   "metadata": {},
   "source": [
    "# Since the p value is greater than 0.05 , we can say that the given distribution is  normal. "
   ]
  },
  {
   "cell_type": "code",
   "execution_count": 3,
   "metadata": {},
   "outputs": [],
   "source": [
    "f = df2.lnN\n",
    "sd =f.std()\n",
    "mu = f.mean()\n",
    "a ,b = mu-3*sd, mu+3*sd\n",
    "x = np.linspace(a,b,1000)\n",
    "y = norm.pdf(x, loc = mu, scale = sd)"
   ]
  },
  {
   "cell_type": "code",
   "execution_count": 4,
   "metadata": {},
   "outputs": [
    {
     "data": {
      "text/plain": [
       "(array([2.65951276, 0.88650425, 0.88650425, 0.88650425, 0.        ,\n",
       "        0.88650425, 0.88650425, 0.        , 0.88650425, 0.88650425]),\n",
       " array([4.8978398 , 5.01064242, 5.12344503, 5.23624765, 5.34905027,\n",
       "        5.46185289, 5.5746555 , 5.68745812, 5.80026074, 5.91306336,\n",
       "        6.02586597]),\n",
       " <a list of 10 Patch objects>)"
      ]
     },
     "execution_count": 4,
     "metadata": {},
     "output_type": "execute_result"
    },
    {
     "data": {
      "image/png": "[encoded data removed]",
      "text/plain": [
       "<Figure size 432x288 with 1 Axes>"
      ]
     },
     "metadata": {
      "needs_background": "light"
     },
     "output_type": "display_data"
    }
   ],
   "source": [
    "\n",
    "\n",
    "plt.plot(x,y,'.g')\n",
    "\n",
    "plt.hist(f,alpha=.5, density = True) "
   ]
  },
  {
   "cell_type": "code",
   "execution_count": 5,
   "metadata": {},
   "outputs": [],
   "source": [
    "## QQ plot"
   ]
  },
  {
   "cell_type": "code",
   "execution_count": 6,
   "metadata": {},
   "outputs": [],
   "source": [
    "import statsmodels.api as sm \n",
    "import pylab as py "
   ]
  },
  {
   "cell_type": "code",
   "execution_count": 7,
   "metadata": {},
   "outputs": [
    {
     "data": {
      "image/png": "[encoded data removed]",
      "text/plain": [
       "<Figure size 432x288 with 1 Axes>"
      ]
     },
     "metadata": {
      "needs_background": "light"
     },
     "output_type": "display_data"
    }
   ],
   "source": [
    "sm.qqplot(f, fit= True, line = \"45\") \n",
    "py.show() "
   ]
  },
  {
   "cell_type": "code",
   "execution_count": 8,
   "metadata": {},
   "outputs": [],
   "source": [
    "#Standard error  of the mean, standard deviation, mean "
   ]
  },
  {
   "cell_type": "code",
   "execution_count": 9,
   "metadata": {},
   "outputs": [],
   "source": [
    "from scipy.stats import sem \n"
   ]
  },
  {
   "cell_type": "code",
   "execution_count": 10,
   "metadata": {},
   "outputs": [
    {
     "data": {
      "text/plain": [
       "0.12995425598634347"
      ]
     },
     "execution_count": 10,
     "metadata": {},
     "output_type": "execute_result"
    }
   ],
   "source": [
    "sem(df2.lnN)\n"
   ]
  },
  {
   "cell_type": "code",
   "execution_count": 11,
   "metadata": {},
   "outputs": [
    {
     "data": {
      "text/plain": [
       "0.38986276795903035"
      ]
     },
     "execution_count": 11,
     "metadata": {},
     "output_type": "execute_result"
    }
   ],
   "source": [
    "np.std(df2.lnN) "
   ]
  },
  {
   "cell_type": "code",
   "execution_count": 12,
   "metadata": {},
   "outputs": [
    {
     "data": {
      "text/plain": [
       "5.3243447798800005"
      ]
     },
     "execution_count": 12,
     "metadata": {},
     "output_type": "execute_result"
    }
   ],
   "source": [
    "np.mean(df2.lnN)"
   ]
  },
  {
   "cell_type": "markdown",
   "metadata": {},
   "source": [
    "# Curve Fitting "
   ]
  },
  {
   "cell_type": "code",
   "execution_count": 13,
   "metadata": {},
   "outputs": [],
   "source": [
    "import numpy as np\n",
    "from scipy.optimize import curve_fit\n",
    "import pandas as pd\n",
    "import scipy.stats as st\n",
    "import matplotlib.pyplot as plt"
   ]
  },
  {
   "cell_type": "code",
   "execution_count": null,
   "metadata": {},
   "outputs": [],
   "source": []
  },
  {
   "cell_type": "code",
   "execution_count": 25,
   "metadata": {},
   "outputs": [
    {
     "name": "stdout",
     "output_type": "stream",
     "text": [
      "-0.45283116604484575\n",
      "5.72781734882596\n"
     ]
    },
    {
     "data": {
      "image/png": "[encoded data removed]",
      "text/plain": [
       "<Figure size 720x432 with 1 Axes>"
      ]
     },
     "metadata": {
      "needs_background": "light"
     },
     "output_type": "display_data"
    }
   ],
   "source": [
    "\n",
    "data = np.loadtxt(\"ac.csv\",delimiter = ',')\n",
    "#data = np.loadtxt(\"test4multiplot.txt\", dtype = str)     #if file contains multiple data types\n",
    "#data\n",
    "x = data[:,1]\n",
    "y = data[:,3]\n",
    "yerror = data[:,4]\n",
    "#plot data\n",
    "plt.figure(figsize = [10,6])\n",
    "plt.plot(x,y,\"-\", color = \"black\", label = \"Test data\")\n",
    "plt.errorbar(x,y, yerr = yerror,ecolor = 'red', elinewidth =2,capsize =5, fmt = 'o')\n",
    "m , b = np.polyfit(x,y,1)\n",
    "print(m)  # m = slpoe and b = intercept\n",
    "print(b)\n",
    "\n",
    "plt.plot(x,m*x+b)\n",
    "\n",
    "plt.title(\"Counting with Error bar\", fontsize=16)\n",
    "plt.xlabel('$x[mg/mm^2]$', fontsize=14)\n",
    "plt.ylabel('$ ln N $', fontsize=14)\n",
    "plt.legend(fontsize=14)\n",
    "plt.grid(True)                                 # comment this if u do not need grid\n",
    "plt.show()"
   ]
  },
  {
   "cell_type": "markdown",
   "metadata": {},
   "source": [
    "# Confidence interval "
   ]
  },
  {
   "cell_type": "code",
   "execution_count": null,
   "metadata": {},
   "outputs": [],
   "source": [
    "\n",
    "\n",
    "import scipy.stats as st\n"
   ]
  },
  {
   "cell_type": "code",
   "execution_count": null,
   "metadata": {},
   "outputs": [],
   "source": [
    "y = data[:,3] \n",
    "st.t.interval(alpha=0.95, df=len(y)-1, loc=np.mean(y),scale=st.sem(y))"
   ]
  },
  {
   "cell_type": "code",
   "execution_count": null,
   "metadata": {},
   "outputs": [],
   "source": [
    "def lin_fun(x,a1,a2):\n",
    "    return a1*x + a2\n",
    "def cos_fun(x,a3,a4,a5,a6):\n",
    "    return a3*np.cos(x+a4)*np.exp(-x*a5) + a6\n",
    "\n",
    "def exp_fun(x,a7,a8,a9):\n",
    "    return a7*np.exp(-a8*x) + a9\n"
   ]
  },
  {
   "cell_type": "code",
   "execution_count": null,
   "metadata": {},
   "outputs": [],
   "source": [
    "#curve_fit to find best fit parameters using a least square fit.\n",
    "popt,pcov = curve_fit(lin_fun,x,y)\n",
    "p1,p2 = popt\n",
    "print(popt)\n",
    "print(pcov)\n",
    "print(\"a1 = \", popt[0], \"+-\", pcov[0,0]**0.5)\n",
    "print(\"a2 = \", popt[1], \"+-\", pcov[1,1]**0.5)\n",
    "\n",
    "#x1_fit = np.arange(min(x1),max(x1),1)\n",
    "#x1_fit = np.arange(min(x),max(x)+1.0,1)\n",
    "y1_fit = lin_fun(x, p1, p2)\n",
    "\n",
    "plt.figure(figsize = [10,6])\n",
    "plt.plot(x,y,\"o\", label = \"data\")\n",
    "plt.plot(x,y1_fit,\"--\", label = \"fit\")\n",
    "plt.legend()"
   ]
  },
  {
   "cell_type": "code",
   "execution_count": null,
   "metadata": {},
   "outputs": [],
   "source": [
    "from numpy import cov\n",
    "from scipy.stats import pearsonr"
   ]
  },
  {
   "cell_type": "code",
   "execution_count": null,
   "metadata": {},
   "outputs": [],
   "source": [
    "covariance = cov(x,y)\n",
    "print(covariance)\n",
    "corr , _ = pearsonr(x,y)\n",
    "print(\"Pearson correlation : %.3f\" %corr)"
   ]
  },
  {
   "cell_type": "markdown",
   "metadata": {},
   "source": [
    "# High level of correlation(nearly equal to -1) i.e. greater than 0.5 and a negative correlation. "
   ]
  },
  {
   "cell_type": "code",
   "execution_count": null,
   "metadata": {},
   "outputs": [],
   "source": [
    "#np.cov(data)\n",
    "# correlation between x and y\n",
    "# t test\n",
    "# result significance from p value"
   ]
  },
  {
   "cell_type": "code",
   "execution_count": null,
   "metadata": {},
   "outputs": [],
   "source": [
    "# https://www.statsmodels.org/stable/generated/statsmodels.graphics.gofplots.qqplot.html"
   ]
  },
  {
   "cell_type": "code",
   "execution_count": null,
   "metadata": {},
   "outputs": [],
   "source": [
    "# https://github.com/dharmapaudel "
   ]
  }
 ],
 "metadata": {
  "kernelspec": {
   "display_name": "Python 3",
   "language": "python",
   "name": "python3"
  },
  "language_info": {
   "codemirror_mode": {
    "name": "ipython",
    "version": 3
   },
   "file_extension": ".py",
   "mimetype": "text/x-python",
   "name": "python",
   "nbconvert_exporter": "python",
   "pygments_lexer": "ipython3",
   "version": "3.7.3"
  }
 },
 "nbformat": 4,
 "nbformat_minor": 2
}
